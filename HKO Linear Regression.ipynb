{
 "cells": [
  {
   "cell_type": "markdown",
   "metadata": {},
   "source": [
    "## Predicting rainfall with Linear Regression"
   ]
  },
  {
   "cell_type": "code",
   "execution_count": 3,
   "metadata": {},
   "outputs": [],
   "source": [
    "import pandas as pd\n",
    "import matplotlib.pyplot as plt\n",
    "%matplotlib inline"
   ]
  },
  {
   "cell_type": "code",
   "execution_count": 4,
   "metadata": {},
   "outputs": [],
   "source": [
    "data = pd.DataFrame()\n",
    "for i in range(2000,2020):\n",
    "    i = pd.read_html(f'{i}.html')[0]\n",
    "    data = data.append(i)"
   ]
  },
  {
   "cell_type": "code",
   "execution_count": 5,
   "metadata": {},
   "outputs": [],
   "source": [
    "cols = ['Month','Mean Pressure (hPa)','Air Temp Absolute Daily Max (C)','Mean Daily Max','Air Temp Mean (C)','Mean Daily Min',\n",
    "        'Air Temp Absolute Daily Min (C)','Mean Dew Point (C)','Mean Relative Humidity (%)',\n",
    "        'Mean Amount of Cloud (%)','Total Rainfall (mm)',\n",
    "        'Total Bright Sunshine (hours)','Prevailing Wind Direction (degrees)','Mean Wind Speed (km/h)']"
   ]
  },
  {
   "cell_type": "code",
   "execution_count": 6,
   "metadata": {},
   "outputs": [],
   "source": [
    "data.columns = cols"
   ]
  },
  {
   "cell_type": "code",
   "execution_count": 7,
   "metadata": {},
   "outputs": [
    {
     "data": {
      "text/html": [
       "<div>\n",
       "<style scoped>\n",
       "    .dataframe tbody tr th:only-of-type {\n",
       "        vertical-align: middle;\n",
       "    }\n",
       "\n",
       "    .dataframe tbody tr th {\n",
       "        vertical-align: top;\n",
       "    }\n",
       "\n",
       "    .dataframe thead th {\n",
       "        text-align: right;\n",
       "    }\n",
       "</style>\n",
       "<table border=\"1\" class=\"dataframe\">\n",
       "  <thead>\n",
       "    <tr style=\"text-align: right;\">\n",
       "      <th></th>\n",
       "      <th>Month</th>\n",
       "      <th>Mean Pressure (hPa)</th>\n",
       "      <th>Air Temp Absolute Daily Max (C)</th>\n",
       "      <th>Mean Daily Max</th>\n",
       "      <th>Air Temp Mean (C)</th>\n",
       "      <th>Mean Daily Min</th>\n",
       "      <th>Air Temp Absolute Daily Min (C)</th>\n",
       "      <th>Mean Dew Point (C)</th>\n",
       "      <th>Mean Relative Humidity (%)</th>\n",
       "      <th>Mean Amount of Cloud (%)</th>\n",
       "      <th>Total Rainfall (mm)</th>\n",
       "      <th>Total Bright Sunshine (hours)</th>\n",
       "      <th>Prevailing Wind Direction (degrees)</th>\n",
       "      <th>Mean Wind Speed (km/h)</th>\n",
       "    </tr>\n",
       "  </thead>\n",
       "  <tbody>\n",
       "    <tr>\n",
       "      <th>0</th>\n",
       "      <td>1</td>\n",
       "      <td>1019.5</td>\n",
       "      <td>24.0</td>\n",
       "      <td>19.1</td>\n",
       "      <td>17.0</td>\n",
       "      <td>15.3</td>\n",
       "      <td>7.2</td>\n",
       "      <td>12.2</td>\n",
       "      <td>74</td>\n",
       "      <td>64</td>\n",
       "      <td>70.3</td>\n",
       "      <td>130.7</td>\n",
       "      <td>050</td>\n",
       "      <td>26.5</td>\n",
       "    </tr>\n",
       "    <tr>\n",
       "      <th>1</th>\n",
       "      <td>2</td>\n",
       "      <td>1017.8</td>\n",
       "      <td>23.2</td>\n",
       "      <td>17.4</td>\n",
       "      <td>15.4</td>\n",
       "      <td>13.6</td>\n",
       "      <td>8.5</td>\n",
       "      <td>11.8</td>\n",
       "      <td>80</td>\n",
       "      <td>70</td>\n",
       "      <td>27.6</td>\n",
       "      <td>99.7</td>\n",
       "      <td>060</td>\n",
       "      <td>24.9</td>\n",
       "    </tr>\n",
       "    <tr>\n",
       "      <th>2</th>\n",
       "      <td>3</td>\n",
       "      <td>1015.3</td>\n",
       "      <td>27.7</td>\n",
       "      <td>21.5</td>\n",
       "      <td>19.2</td>\n",
       "      <td>17.2</td>\n",
       "      <td>11.0</td>\n",
       "      <td>15.2</td>\n",
       "      <td>79</td>\n",
       "      <td>67</td>\n",
       "      <td>40.9</td>\n",
       "      <td>137.1</td>\n",
       "      <td>040</td>\n",
       "      <td>22.4</td>\n",
       "    </tr>\n",
       "    <tr>\n",
       "      <th>3</th>\n",
       "      <td>4</td>\n",
       "      <td>1011.1</td>\n",
       "      <td>30.2</td>\n",
       "      <td>25.1</td>\n",
       "      <td>23.1</td>\n",
       "      <td>21.4</td>\n",
       "      <td>19.0</td>\n",
       "      <td>20.4</td>\n",
       "      <td>85</td>\n",
       "      <td>85</td>\n",
       "      <td>547.7</td>\n",
       "      <td>77.3</td>\n",
       "      <td>070</td>\n",
       "      <td>22.0</td>\n",
       "    </tr>\n",
       "    <tr>\n",
       "      <th>4</th>\n",
       "      <td>5</td>\n",
       "      <td>1008.6</td>\n",
       "      <td>32.4</td>\n",
       "      <td>28.4</td>\n",
       "      <td>26.1</td>\n",
       "      <td>24.5</td>\n",
       "      <td>20.6</td>\n",
       "      <td>22.3</td>\n",
       "      <td>80</td>\n",
       "      <td>75</td>\n",
       "      <td>208.3</td>\n",
       "      <td>148.5</td>\n",
       "      <td>080#</td>\n",
       "      <td>21.6#</td>\n",
       "    </tr>\n",
       "  </tbody>\n",
       "</table>\n",
       "</div>"
      ],
      "text/plain": [
       "   Month  Mean Pressure (hPa)  Air Temp Absolute Daily Max (C)  \\\n",
       "0      1               1019.5                             24.0   \n",
       "1      2               1017.8                             23.2   \n",
       "2      3               1015.3                             27.7   \n",
       "3      4               1011.1                             30.2   \n",
       "4      5               1008.6                             32.4   \n",
       "\n",
       "   Mean Daily Max  Air Temp Mean (C)  Mean Daily Min  \\\n",
       "0            19.1               17.0            15.3   \n",
       "1            17.4               15.4            13.6   \n",
       "2            21.5               19.2            17.2   \n",
       "3            25.1               23.1            21.4   \n",
       "4            28.4               26.1            24.5   \n",
       "\n",
       "   Air Temp Absolute Daily Min (C)  Mean Dew Point (C)  \\\n",
       "0                              7.2                12.2   \n",
       "1                              8.5                11.8   \n",
       "2                             11.0                15.2   \n",
       "3                             19.0                20.4   \n",
       "4                             20.6                22.3   \n",
       "\n",
       "   Mean Relative Humidity (%)  Mean Amount of Cloud (%) Total Rainfall (mm)  \\\n",
       "0                          74                        64                70.3   \n",
       "1                          80                        70                27.6   \n",
       "2                          79                        67                40.9   \n",
       "3                          85                        85               547.7   \n",
       "4                          80                        75               208.3   \n",
       "\n",
       "   Total Bright Sunshine (hours) Prevailing Wind Direction (degrees)  \\\n",
       "0                          130.7                                 050   \n",
       "1                           99.7                                 060   \n",
       "2                          137.1                                 040   \n",
       "3                           77.3                                 070   \n",
       "4                          148.5                                080#   \n",
       "\n",
       "  Mean Wind Speed (km/h)  \n",
       "0                   26.5  \n",
       "1                   24.9  \n",
       "2                   22.4  \n",
       "3                   22.0  \n",
       "4                  21.6#  "
      ]
     },
     "execution_count": 7,
     "metadata": {},
     "output_type": "execute_result"
    }
   ],
   "source": [
    "data.head()"
   ]
  },
  {
   "cell_type": "code",
   "execution_count": 8,
   "metadata": {},
   "outputs": [
    {
     "name": "stdout",
     "output_type": "stream",
     "text": [
      "<class 'pandas.core.frame.DataFrame'>\n",
      "Int64Index: 240 entries, 0 to 11\n",
      "Data columns (total 14 columns):\n",
      " #   Column                               Non-Null Count  Dtype  \n",
      "---  ------                               --------------  -----  \n",
      " 0   Month                                240 non-null    int64  \n",
      " 1   Mean Pressure (hPa)                  240 non-null    float64\n",
      " 2   Air Temp Absolute Daily Max (C)      240 non-null    float64\n",
      " 3   Mean Daily Max                       240 non-null    float64\n",
      " 4   Air Temp Mean (C)                    240 non-null    float64\n",
      " 5   Mean Daily Min                       240 non-null    float64\n",
      " 6   Air Temp Absolute Daily Min (C)      240 non-null    float64\n",
      " 7   Mean Dew Point (C)                   240 non-null    float64\n",
      " 8   Mean Relative Humidity (%)           240 non-null    int64  \n",
      " 9   Mean Amount of Cloud (%)             240 non-null    int64  \n",
      " 10  Total Rainfall (mm)                  240 non-null    object \n",
      " 11  Total Bright Sunshine (hours)        240 non-null    float64\n",
      " 12  Prevailing Wind Direction (degrees)  240 non-null    object \n",
      " 13  Mean Wind Speed (km/h)               240 non-null    object \n",
      "dtypes: float64(8), int64(3), object(3)\n",
      "memory usage: 28.1+ KB\n"
     ]
    }
   ],
   "source": [
    "data.info()"
   ]
  },
  {
   "cell_type": "markdown",
   "metadata": {},
   "source": [
    "## Data Cleaning"
   ]
  },
  {
   "cell_type": "code",
   "execution_count": 9,
   "metadata": {},
   "outputs": [],
   "source": [
    "def trace(value):\n",
    "    if value == 'Trace':\n",
    "        return 0.05\n",
    "    elif value == '微量':\n",
    "        return 0.05\n",
    "    else:\n",
    "        return value"
   ]
  },
  {
   "cell_type": "code",
   "execution_count": 10,
   "metadata": {},
   "outputs": [],
   "source": [
    "def clean(value):\n",
    "    if '#' in value:\n",
    "        return value[:-1]\n",
    "    else:\n",
    "        return value"
   ]
  },
  {
   "cell_type": "code",
   "execution_count": 11,
   "metadata": {},
   "outputs": [],
   "source": [
    "data = data.drop('Month',axis=1)"
   ]
  },
  {
   "cell_type": "code",
   "execution_count": 12,
   "metadata": {},
   "outputs": [],
   "source": [
    "data['Prevailing Wind Direction (degrees)'] = data['Prevailing Wind Direction (degrees)'].astype(str)\n",
    "data['Mean Wind Speed (km/h)'] = data['Mean Wind Speed (km/h)'].astype(str)"
   ]
  },
  {
   "cell_type": "code",
   "execution_count": 13,
   "metadata": {},
   "outputs": [],
   "source": [
    "data['Total Rainfall (mm)'] = data['Total Rainfall (mm)'].apply(trace)\n",
    "data['Prevailing Wind Direction (degrees)'] = data['Prevailing Wind Direction (degrees)'].apply(clean)\n",
    "data['Mean Wind Speed (km/h)'] = data['Mean Wind Speed (km/h)'].apply(clean)"
   ]
  },
  {
   "cell_type": "code",
   "execution_count": 14,
   "metadata": {},
   "outputs": [],
   "source": [
    "data['Total Rainfall (mm)'] = data['Total Rainfall (mm)'].astype(float)\n",
    "data['Prevailing Wind Direction (degrees)'] = data['Prevailing Wind Direction (degrees)'].astype(int)\n",
    "data['Mean Wind Speed (km/h)'] = data['Mean Wind Speed (km/h)'].astype(float)"
   ]
  },
  {
   "cell_type": "code",
   "execution_count": 134,
   "metadata": {},
   "outputs": [
    {
     "data": {
      "text/html": [
       "<div>\n",
       "<style scoped>\n",
       "    .dataframe tbody tr th:only-of-type {\n",
       "        vertical-align: middle;\n",
       "    }\n",
       "\n",
       "    .dataframe tbody tr th {\n",
       "        vertical-align: top;\n",
       "    }\n",
       "\n",
       "    .dataframe thead th {\n",
       "        text-align: right;\n",
       "    }\n",
       "</style>\n",
       "<table border=\"1\" class=\"dataframe\">\n",
       "  <thead>\n",
       "    <tr style=\"text-align: right;\">\n",
       "      <th></th>\n",
       "      <th>Mean Pressure (hPa)</th>\n",
       "      <th>Air Temp Absolute Daily Max (C)</th>\n",
       "      <th>Mean Daily Max</th>\n",
       "      <th>Air Temp Mean (C)</th>\n",
       "      <th>Mean Daily Min</th>\n",
       "      <th>Air Temp Absolute Daily Min (C)</th>\n",
       "      <th>Mean Dew Point (C)</th>\n",
       "      <th>Mean Relative Humidity (%)</th>\n",
       "      <th>Mean Amount of Cloud (%)</th>\n",
       "      <th>Total Rainfall (mm)</th>\n",
       "      <th>Total Bright Sunshine (hours)</th>\n",
       "      <th>Prevailing Wind Direction (degrees)</th>\n",
       "      <th>Mean Wind Speed (km/h)</th>\n",
       "    </tr>\n",
       "  </thead>\n",
       "  <tbody>\n",
       "    <tr>\n",
       "      <th>0</th>\n",
       "      <td>1019.5</td>\n",
       "      <td>24.0</td>\n",
       "      <td>19.1</td>\n",
       "      <td>17.0</td>\n",
       "      <td>15.3</td>\n",
       "      <td>7.2</td>\n",
       "      <td>12.2</td>\n",
       "      <td>74</td>\n",
       "      <td>64</td>\n",
       "      <td>70.3</td>\n",
       "      <td>130.7</td>\n",
       "      <td>50</td>\n",
       "      <td>26.5</td>\n",
       "    </tr>\n",
       "    <tr>\n",
       "      <th>1</th>\n",
       "      <td>1017.8</td>\n",
       "      <td>23.2</td>\n",
       "      <td>17.4</td>\n",
       "      <td>15.4</td>\n",
       "      <td>13.6</td>\n",
       "      <td>8.5</td>\n",
       "      <td>11.8</td>\n",
       "      <td>80</td>\n",
       "      <td>70</td>\n",
       "      <td>27.6</td>\n",
       "      <td>99.7</td>\n",
       "      <td>60</td>\n",
       "      <td>24.9</td>\n",
       "    </tr>\n",
       "    <tr>\n",
       "      <th>2</th>\n",
       "      <td>1015.3</td>\n",
       "      <td>27.7</td>\n",
       "      <td>21.5</td>\n",
       "      <td>19.2</td>\n",
       "      <td>17.2</td>\n",
       "      <td>11.0</td>\n",
       "      <td>15.2</td>\n",
       "      <td>79</td>\n",
       "      <td>67</td>\n",
       "      <td>40.9</td>\n",
       "      <td>137.1</td>\n",
       "      <td>40</td>\n",
       "      <td>22.4</td>\n",
       "    </tr>\n",
       "    <tr>\n",
       "      <th>3</th>\n",
       "      <td>1011.1</td>\n",
       "      <td>30.2</td>\n",
       "      <td>25.1</td>\n",
       "      <td>23.1</td>\n",
       "      <td>21.4</td>\n",
       "      <td>19.0</td>\n",
       "      <td>20.4</td>\n",
       "      <td>85</td>\n",
       "      <td>85</td>\n",
       "      <td>547.7</td>\n",
       "      <td>77.3</td>\n",
       "      <td>70</td>\n",
       "      <td>22.0</td>\n",
       "    </tr>\n",
       "    <tr>\n",
       "      <th>4</th>\n",
       "      <td>1008.6</td>\n",
       "      <td>32.4</td>\n",
       "      <td>28.4</td>\n",
       "      <td>26.1</td>\n",
       "      <td>24.5</td>\n",
       "      <td>20.6</td>\n",
       "      <td>22.3</td>\n",
       "      <td>80</td>\n",
       "      <td>75</td>\n",
       "      <td>208.3</td>\n",
       "      <td>148.5</td>\n",
       "      <td>80</td>\n",
       "      <td>21.6</td>\n",
       "    </tr>\n",
       "  </tbody>\n",
       "</table>\n",
       "</div>"
      ],
      "text/plain": [
       "   Mean Pressure (hPa)  Air Temp Absolute Daily Max (C)  Mean Daily Max  \\\n",
       "0               1019.5                             24.0            19.1   \n",
       "1               1017.8                             23.2            17.4   \n",
       "2               1015.3                             27.7            21.5   \n",
       "3               1011.1                             30.2            25.1   \n",
       "4               1008.6                             32.4            28.4   \n",
       "\n",
       "   Air Temp Mean (C)  Mean Daily Min  Air Temp Absolute Daily Min (C)  \\\n",
       "0               17.0            15.3                              7.2   \n",
       "1               15.4            13.6                              8.5   \n",
       "2               19.2            17.2                             11.0   \n",
       "3               23.1            21.4                             19.0   \n",
       "4               26.1            24.5                             20.6   \n",
       "\n",
       "   Mean Dew Point (C)  Mean Relative Humidity (%)  Mean Amount of Cloud (%)  \\\n",
       "0                12.2                          74                        64   \n",
       "1                11.8                          80                        70   \n",
       "2                15.2                          79                        67   \n",
       "3                20.4                          85                        85   \n",
       "4                22.3                          80                        75   \n",
       "\n",
       "   Total Rainfall (mm)  Total Bright Sunshine (hours)  \\\n",
       "0                 70.3                          130.7   \n",
       "1                 27.6                           99.7   \n",
       "2                 40.9                          137.1   \n",
       "3                547.7                           77.3   \n",
       "4                208.3                          148.5   \n",
       "\n",
       "   Prevailing Wind Direction (degrees)  Mean Wind Speed (km/h)  \n",
       "0                                   50                    26.5  \n",
       "1                                   60                    24.9  \n",
       "2                                   40                    22.4  \n",
       "3                                   70                    22.0  \n",
       "4                                   80                    21.6  "
      ]
     },
     "execution_count": 134,
     "metadata": {},
     "output_type": "execute_result"
    }
   ],
   "source": [
    "data.head()"
   ]
  },
  {
   "cell_type": "markdown",
   "metadata": {},
   "source": [
    "### Cross Validation with train_test_split"
   ]
  },
  {
   "cell_type": "code",
   "execution_count": 15,
   "metadata": {},
   "outputs": [],
   "source": [
    "from sklearn.model_selection import train_test_split"
   ]
  },
  {
   "cell_type": "code",
   "execution_count": 16,
   "metadata": {},
   "outputs": [],
   "source": [
    "X = data.drop('Total Rainfall (mm)',axis=1)\n",
    "y = data['Total Rainfall (mm)']"
   ]
  },
  {
   "cell_type": "code",
   "execution_count": 17,
   "metadata": {},
   "outputs": [],
   "source": [
    "X_train, X_test, y_train, y_test = train_test_split(X, y, test_size=0.3, random_state=42)"
   ]
  },
  {
   "cell_type": "markdown",
   "metadata": {},
   "source": [
    "### Import LinearRegression and creat an instance of a model"
   ]
  },
  {
   "cell_type": "code",
   "execution_count": 18,
   "metadata": {},
   "outputs": [],
   "source": [
    "from sklearn.linear_model import LinearRegression"
   ]
  },
  {
   "cell_type": "code",
   "execution_count": 19,
   "metadata": {},
   "outputs": [],
   "source": [
    "lm = LinearRegression()"
   ]
  },
  {
   "cell_type": "markdown",
   "metadata": {},
   "source": [
    "### Fit model"
   ]
  },
  {
   "cell_type": "code",
   "execution_count": 20,
   "metadata": {},
   "outputs": [
    {
     "data": {
      "text/plain": [
       "LinearRegression(copy_X=True, fit_intercept=True, n_jobs=None, normalize=False)"
      ]
     },
     "execution_count": 20,
     "metadata": {},
     "output_type": "execute_result"
    }
   ],
   "source": [
    "lm.fit(X,y)"
   ]
  },
  {
   "cell_type": "markdown",
   "metadata": {},
   "source": [
    "### Coefficients of each column"
   ]
  },
  {
   "cell_type": "code",
   "execution_count": 21,
   "metadata": {
    "scrolled": false
   },
   "outputs": [
    {
     "name": "stdout",
     "output_type": "stream",
     "text": [
      "Coefficients: \n",
      " [ -21.58649332    9.07016706 -113.08848821  282.60929672 -201.64398994\n",
      "   15.73205181   16.78314611    6.55509386   -5.08928271   -1.41440594\n",
      "    0.43702532    9.20780921]\n"
     ]
    }
   ],
   "source": [
    "print('Coefficients: \\n', lm.coef_)"
   ]
  },
  {
   "cell_type": "markdown",
   "metadata": {},
   "source": [
    "### Generate predictions"
   ]
  },
  {
   "cell_type": "code",
   "execution_count": 22,
   "metadata": {},
   "outputs": [],
   "source": [
    "predictions = lm.predict( X_test)"
   ]
  },
  {
   "cell_type": "markdown",
   "metadata": {},
   "source": [
    "### Plot predictions against y true values"
   ]
  },
  {
   "cell_type": "code",
   "execution_count": 26,
   "metadata": {},
   "outputs": [
    {
     "data": {
      "text/plain": [
       "Text(0, 0.5, 'Predicted Y')"
      ]
     },
     "execution_count": 26,
     "metadata": {},
     "output_type": "execute_result"
    },
    {
     "data": {
      "image/png": "[encoded data removed]",
      "text/plain": [
       "<Figure size 576x576 with 1 Axes>"
      ]
     },
     "metadata": {},
     "output_type": "display_data"
    }
   ],
   "source": [
    "plt.figure(figsize=(8,8))\n",
    "sns.set(style='whitegrid')\n",
    "plt.scatter(y_test,predictions)\n",
    "plt.xlabel('Y Test')\n",
    "plt.ylabel('Predicted Y')"
   ]
  },
  {
   "cell_type": "markdown",
   "metadata": {},
   "source": [
    "## Model Evaluation"
   ]
  },
  {
   "cell_type": "code",
   "execution_count": 27,
   "metadata": {},
   "outputs": [
    {
     "name": "stdout",
     "output_type": "stream",
     "text": [
      "MAE: 100.42548657159298\n",
      "MSE: 22005.000227233926\n",
      "RMSE: 148.34082454683175\n"
     ]
    }
   ],
   "source": [
    "from sklearn import metrics\n",
    "import numpy as np\n",
    "import seaborn as sns\n",
    "\n",
    "print('MAE:', metrics.mean_absolute_error(y_test, predictions))\n",
    "print('MSE:', metrics.mean_squared_error(y_test, predictions))\n",
    "print('RMSE:', np.sqrt(metrics.mean_squared_error(y_test, predictions)))"
   ]
  },
  {
   "cell_type": "code",
   "execution_count": 28,
   "metadata": {},
   "outputs": [
    {
     "data": {
      "image/png": "[encoded data removed]",
      "text/plain": [
       "<Figure size 432x288 with 1 Axes>"
      ]
     },
     "metadata": {},
     "output_type": "display_data"
    }
   ],
   "source": [
    "sns.distplot((y_test-predictions),bins=50);"
   ]
  },
  {
   "cell_type": "code",
   "execution_count": 153,
   "metadata": {},
   "outputs": [
    {
     "data": {
      "text/html": [
       "<div>\n",
       "<style scoped>\n",
       "    .dataframe tbody tr th:only-of-type {\n",
       "        vertical-align: middle;\n",
       "    }\n",
       "\n",
       "    .dataframe tbody tr th {\n",
       "        vertical-align: top;\n",
       "    }\n",
       "\n",
       "    .dataframe thead th {\n",
       "        text-align: right;\n",
       "    }\n",
       "</style>\n",
       "<table border=\"1\" class=\"dataframe\">\n",
       "  <thead>\n",
       "    <tr style=\"text-align: right;\">\n",
       "      <th></th>\n",
       "      <th>Coeffecient</th>\n",
       "    </tr>\n",
       "  </thead>\n",
       "  <tbody>\n",
       "    <tr>\n",
       "      <th>Mean Pressure (hPa)</th>\n",
       "      <td>-21.586493</td>\n",
       "    </tr>\n",
       "    <tr>\n",
       "      <th>Air Temp Absolute Daily Max (C)</th>\n",
       "      <td>9.070167</td>\n",
       "    </tr>\n",
       "    <tr>\n",
       "      <th>Mean Daily Max</th>\n",
       "      <td>-113.088488</td>\n",
       "    </tr>\n",
       "    <tr>\n",
       "      <th>Air Temp Mean (C)</th>\n",
       "      <td>282.609297</td>\n",
       "    </tr>\n",
       "    <tr>\n",
       "      <th>Mean Daily Min</th>\n",
       "      <td>-201.643990</td>\n",
       "    </tr>\n",
       "    <tr>\n",
       "      <th>Air Temp Absolute Daily Min (C)</th>\n",
       "      <td>15.732052</td>\n",
       "    </tr>\n",
       "    <tr>\n",
       "      <th>Mean Dew Point (C)</th>\n",
       "      <td>16.783146</td>\n",
       "    </tr>\n",
       "    <tr>\n",
       "      <th>Mean Relative Humidity (%)</th>\n",
       "      <td>6.555094</td>\n",
       "    </tr>\n",
       "    <tr>\n",
       "      <th>Mean Amount of Cloud (%)</th>\n",
       "      <td>-5.089283</td>\n",
       "    </tr>\n",
       "    <tr>\n",
       "      <th>Total Bright Sunshine (hours)</th>\n",
       "      <td>-1.414406</td>\n",
       "    </tr>\n",
       "    <tr>\n",
       "      <th>Prevailing Wind Direction (degrees)</th>\n",
       "      <td>0.437025</td>\n",
       "    </tr>\n",
       "    <tr>\n",
       "      <th>Mean Wind Speed (km/h)</th>\n",
       "      <td>9.207809</td>\n",
       "    </tr>\n",
       "  </tbody>\n",
       "</table>\n",
       "</div>"
      ],
      "text/plain": [
       "                                     Coeffecient\n",
       "Mean Pressure (hPa)                   -21.586493\n",
       "Air Temp Absolute Daily Max (C)         9.070167\n",
       "Mean Daily Max                       -113.088488\n",
       "Air Temp Mean (C)                     282.609297\n",
       "Mean Daily Min                       -201.643990\n",
       "Air Temp Absolute Daily Min (C)        15.732052\n",
       "Mean Dew Point (C)                     16.783146\n",
       "Mean Relative Humidity (%)              6.555094\n",
       "Mean Amount of Cloud (%)               -5.089283\n",
       "Total Bright Sunshine (hours)          -1.414406\n",
       "Prevailing Wind Direction (degrees)     0.437025\n",
       "Mean Wind Speed (km/h)                  9.207809"
      ]
     },
     "execution_count": 153,
     "metadata": {},
     "output_type": "execute_result"
    }
   ],
   "source": [
    "coeffecients = pd.DataFrame(lm.coef_,X.columns)\n",
    "coeffecients.columns = ['Coeffecient']\n",
    "coeffecients"
   ]
  }
 ],
 "metadata": {
  "kernelspec": {
   "display_name": "Python 3",
   "language": "python",
   "name": "python3"
  },
  "language_info": {
   "codemirror_mode": {
    "name": "ipython",
    "version": 3
   },
   "file_extension": ".py",
   "mimetype": "text/x-python",
   "name": "python",
   "nbconvert_exporter": "python",
   "pygments_lexer": "ipython3",
   "version": "3.7.6"
  }
 },
 "nbformat": 4,
 "nbformat_minor": 4
}
